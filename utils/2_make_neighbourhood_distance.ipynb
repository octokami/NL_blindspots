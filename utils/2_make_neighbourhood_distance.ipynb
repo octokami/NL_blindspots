{
 "cells": [
  {
   "cell_type": "markdown",
   "id": "48e04847-2e13-4503-990d-f576ea85f60c",
   "metadata": {},
   "source": [
    "# Generating Minimal distance to facilities"
   ]
  },
  {
   "cell_type": "code",
   "execution_count": 1,
   "id": "31d3c3c1-5dc8-462e-b095-92270ec033fa",
   "metadata": {},
   "outputs": [],
   "source": [
    "import os\n",
    "from pathlib import Path\n",
    "from logzero import logger\n",
    "import geopandas as gpd\n",
    "import pandas as pd\n",
    "#!pip install pygeos"
   ]
  },
  {
   "cell_type": "code",
   "execution_count": 2,
   "id": "739c5f85-1311-4bfb-84a8-a830638f72f5",
   "metadata": {},
   "outputs": [],
   "source": [
    "GEOJSONS = \"nl_osm_locations\"\n",
    "\n",
    "childcare = gpd.read_file(f'{GEOJSONS}/nl_childcare.geojson')\n",
    "#childcare.columns\n",
    "\n",
    "childcare = gpd.read_file(f'{GEOJSONS}/nl_college.geojson')\n",
    "#childcare.columns"
   ]
  },
  {
   "cell_type": "markdown",
   "id": "3aabe413-ac47-49d7-a0d0-bafbc51742de",
   "metadata": {},
   "source": [
    "**Note**: The column names are inconsistent in data, so I'll create a function to extract unified data from all data frames an return a single union out of it to make it easier to work with. "
   ]
  },
  {
   "cell_type": "code",
   "execution_count": 3,
   "id": "d5bd7e4f-8d34-4783-80c9-f6de3fcc7527",
   "metadata": {},
   "outputs": [],
   "source": [
    "def read_geojson(\n",
    "    name, \n",
    "    path=GEOJSONS, \n",
    "    ext=\"geojson\",\n",
    "    columns=['id', 'name', 'addr:postcode', 'geometry'],\n",
    "    include_name=True,   # include a column containing the file name. Helps with future filtering.\n",
    "    skip_error=False\n",
    "):\n",
    "    file_path = os.path.join(path, f\"{name}.{ext}\")\n",
    "    try:\n",
    "        df = gpd.read_file(file_path)[columns]\n",
    "    except Exception as e:\n",
    "        if skip_error:\n",
    "            logger.warning(f\"failed to read: {file_path}\")\n",
    "            logger.warning(e)\n",
    "            return None\n",
    "        raise e\n",
    "\n",
    "    if include_name:\n",
    "        df['type'] = name\n",
    "    return df"
   ]
  },
  {
   "cell_type": "code",
   "execution_count": 4,
   "id": "a5f4e4c8-42b3-4188-a5b5-513514c7aa4f",
   "metadata": {},
   "outputs": [],
   "source": [
    "geojsons = [Path(i).stem for i in os.listdir(GEOJSONS)]\n",
    "#geojsons"
   ]
  },
  {
   "cell_type": "code",
   "execution_count": 5,
   "id": "9d4fe2c7-6d9c-4f55-97d9-0de6f81584a1",
   "metadata": {},
   "outputs": [],
   "source": [
    "def read_geojson_multi(names, *args, **kwargs):\n",
    "    dfs = [read_geojson(name, *args, **kwargs) for name in names]\n",
    "    return pd.concat(dfs, axis=0, ignore_index=True)\n",
    "\n",
    "df = read_geojson_multi(names=geojsons, skip_error=True)\n",
    "#df"
   ]
  },
  {
   "cell_type": "markdown",
   "id": "5539f3e3-de86-4ca3-a31a-782fb2213bca",
   "metadata": {},
   "source": [
    "Extract `POINT` object:"
   ]
  },
  {
   "cell_type": "code",
   "execution_count": 6,
   "id": "7bfed2c0-f877-4d43-adf7-b11fddfbdb42",
   "metadata": {},
   "outputs": [],
   "source": [
    "df['lat'] = df['geometry'].y\n",
    "df['lon'] = df['geometry'].x\n",
    "df = df.drop(columns=['geometry'])\n",
    "#df"
   ]
  },
  {
   "cell_type": "code",
   "execution_count": 7,
   "id": "e4474009-4e0b-49f6-898e-219e6d980bd2",
   "metadata": {},
   "outputs": [],
   "source": [
    "df.to_csv(\"nl_osm_locations.csv\")"
   ]
  },
  {
   "cell_type": "code",
   "execution_count": 9,
   "id": "7485f40e-d53f-4dc5-a468-044ede1ae8ca",
   "metadata": {},
   "outputs": [],
   "source": [
    "CRS = \"EPSG:32733\"\n",
    "\n",
    "# Facilities\n",
    "facilities = pd.read_csv('nl_osm_locations.csv')\n",
    "facilities = gpd.GeoDataFrame(\n",
    "    facilities, geometry=gpd.points_from_xy(facilities['lon'], facilities['lat'], crs=CRS)\n",
    ").drop(columns=['lat', 'lon'])\n",
    "\n",
    "facility_types = list(facilities['type'].unique())\n",
    "#facility_types\n",
    "\n",
    "# Neighbourhoods\n",
    "neighborhoods = pd.read_csv('neighbourhood_to_coordinate.csv')\n",
    "neighborhoods = gpd.GeoDataFrame(\n",
    "    neighborhoods, geometry=gpd.points_from_xy(neighborhoods['longitude'], neighborhoods['latitude']), crs=CRS\n",
    ").drop(columns=['latitude', 'longitude'])\n",
    "#neighborhoods"
   ]
  },
  {
   "cell_type": "code",
   "execution_count": 14,
   "id": "ac19a46c-c526-47d2-a08d-3d1309066ccd",
   "metadata": {},
   "outputs": [
    {
     "ename": "NotImplementedError",
     "evalue": "Currently, only PyGEOS >= 0.10.0 supports `nearest_all`. To use PyGEOS within GeoPandas, you need to install PyGEOS: 'conda install pygeos' or 'pip install pygeos'",
     "output_type": "error",
     "traceback": [
      "\u001b[1;31m---------------------------------------------------------------------------\u001b[0m",
      "\u001b[1;31mNotImplementedError\u001b[0m                       Traceback (most recent call last)",
      "Input \u001b[1;32mIn [14]\u001b[0m, in \u001b[0;36m<cell line: 8>\u001b[1;34m()\u001b[0m\n\u001b[0;32m      5\u001b[0m     dfs \u001b[38;5;241m=\u001b[39m [join_nearest_type(t) \u001b[38;5;28;01mfor\u001b[39;00m t \u001b[38;5;129;01min\u001b[39;00m types]\n\u001b[0;32m      6\u001b[0m     \u001b[38;5;28;01mreturn\u001b[39;00m pd\u001b[38;5;241m.\u001b[39mconcat(dfs, axis\u001b[38;5;241m=\u001b[39m\u001b[38;5;241m0\u001b[39m, ignore_index\u001b[38;5;241m=\u001b[39m\u001b[38;5;28;01mTrue\u001b[39;00m)\n\u001b[1;32m----> 8\u001b[0m joined \u001b[38;5;241m=\u001b[39m \u001b[43mjoin_nearest_types\u001b[49m\u001b[43m(\u001b[49m\u001b[43mfacility_types\u001b[49m\u001b[43m)\u001b[49m\n\u001b[0;32m      9\u001b[0m joined[\u001b[38;5;124m'\u001b[39m\u001b[38;5;124mdistance\u001b[39m\u001b[38;5;124m'\u001b[39m] \u001b[38;5;241m=\u001b[39m \u001b[38;5;28mround\u001b[39m(joined[\u001b[38;5;124m'\u001b[39m\u001b[38;5;124mdistance\u001b[39m\u001b[38;5;124m'\u001b[39m] \u001b[38;5;241m*\u001b[39m \u001b[38;5;241m110.486\u001b[39m, \u001b[38;5;241m2\u001b[39m)\n",
      "Input \u001b[1;32mIn [14]\u001b[0m, in \u001b[0;36mjoin_nearest_types\u001b[1;34m(types)\u001b[0m\n\u001b[0;32m      4\u001b[0m \u001b[38;5;28;01mdef\u001b[39;00m \u001b[38;5;21mjoin_nearest_types\u001b[39m(types):\n\u001b[1;32m----> 5\u001b[0m     dfs \u001b[38;5;241m=\u001b[39m [join_nearest_type(t) \u001b[38;5;28;01mfor\u001b[39;00m t \u001b[38;5;129;01min\u001b[39;00m types]\n\u001b[0;32m      6\u001b[0m     \u001b[38;5;28;01mreturn\u001b[39;00m pd\u001b[38;5;241m.\u001b[39mconcat(dfs, axis\u001b[38;5;241m=\u001b[39m\u001b[38;5;241m0\u001b[39m, ignore_index\u001b[38;5;241m=\u001b[39m\u001b[38;5;28;01mTrue\u001b[39;00m)\n",
      "Input \u001b[1;32mIn [14]\u001b[0m, in \u001b[0;36m<listcomp>\u001b[1;34m(.0)\u001b[0m\n\u001b[0;32m      4\u001b[0m \u001b[38;5;28;01mdef\u001b[39;00m \u001b[38;5;21mjoin_nearest_types\u001b[39m(types):\n\u001b[1;32m----> 5\u001b[0m     dfs \u001b[38;5;241m=\u001b[39m [\u001b[43mjoin_nearest_type\u001b[49m\u001b[43m(\u001b[49m\u001b[43mt\u001b[49m\u001b[43m)\u001b[49m \u001b[38;5;28;01mfor\u001b[39;00m t \u001b[38;5;129;01min\u001b[39;00m types]\n\u001b[0;32m      6\u001b[0m     \u001b[38;5;28;01mreturn\u001b[39;00m pd\u001b[38;5;241m.\u001b[39mconcat(dfs, axis\u001b[38;5;241m=\u001b[39m\u001b[38;5;241m0\u001b[39m, ignore_index\u001b[38;5;241m=\u001b[39m\u001b[38;5;28;01mTrue\u001b[39;00m)\n",
      "Input \u001b[1;32mIn [14]\u001b[0m, in \u001b[0;36mjoin_nearest_type\u001b[1;34m(type_)\u001b[0m\n\u001b[0;32m      1\u001b[0m \u001b[38;5;28;01mdef\u001b[39;00m \u001b[38;5;21mjoin_nearest_type\u001b[39m(type_):\n\u001b[1;32m----> 2\u001b[0m     \u001b[38;5;28;01mreturn\u001b[39;00m \u001b[43mgpd\u001b[49m\u001b[38;5;241;43m.\u001b[39;49m\u001b[43msjoin_nearest\u001b[49m\u001b[43m(\u001b[49m\u001b[43mneighborhoods\u001b[49m\u001b[43m,\u001b[49m\u001b[43m \u001b[49m\u001b[43mfacilities\u001b[49m\u001b[38;5;241;43m.\u001b[39;49m\u001b[43mloc\u001b[49m\u001b[43m[\u001b[49m\u001b[43mfacilities\u001b[49m\u001b[43m[\u001b[49m\u001b[38;5;124;43m'\u001b[39;49m\u001b[38;5;124;43mtype\u001b[39;49m\u001b[38;5;124;43m'\u001b[39;49m\u001b[43m]\u001b[49m\u001b[43m \u001b[49m\u001b[38;5;241;43m==\u001b[39;49m\u001b[43m \u001b[49m\u001b[43mtype_\u001b[49m\u001b[43m]\u001b[49m\u001b[43m,\u001b[49m\u001b[43m \u001b[49m\u001b[43mdistance_col\u001b[49m\u001b[38;5;241;43m=\u001b[39;49m\u001b[38;5;124;43m'\u001b[39;49m\u001b[38;5;124;43mdistance\u001b[39;49m\u001b[38;5;124;43m'\u001b[39;49m\u001b[43m)\u001b[49m\n",
      "File \u001b[1;32mD:\\Programs\\anaconda3\\lib\\site-packages\\geopandas\\tools\\sjoin.py:519\u001b[0m, in \u001b[0;36msjoin_nearest\u001b[1;34m(left_df, right_df, how, max_distance, lsuffix, rsuffix, distance_col)\u001b[0m\n\u001b[0;32m    515\u001b[0m right_df\u001b[38;5;241m.\u001b[39mgeometry\u001b[38;5;241m.\u001b[39mvalues\u001b[38;5;241m.\u001b[39mcheck_geographic_crs(stacklevel\u001b[38;5;241m=\u001b[39m\u001b[38;5;241m1\u001b[39m)\n\u001b[0;32m    517\u001b[0m return_distance \u001b[38;5;241m=\u001b[39m distance_col \u001b[38;5;129;01mis\u001b[39;00m \u001b[38;5;129;01mnot\u001b[39;00m \u001b[38;5;28;01mNone\u001b[39;00m\n\u001b[1;32m--> 519\u001b[0m join_df \u001b[38;5;241m=\u001b[39m \u001b[43m_nearest_query\u001b[49m\u001b[43m(\u001b[49m\u001b[43mleft_df\u001b[49m\u001b[43m,\u001b[49m\u001b[43m \u001b[49m\u001b[43mright_df\u001b[49m\u001b[43m,\u001b[49m\u001b[43m \u001b[49m\u001b[43mmax_distance\u001b[49m\u001b[43m,\u001b[49m\u001b[43m \u001b[49m\u001b[43mhow\u001b[49m\u001b[43m,\u001b[49m\u001b[43m \u001b[49m\u001b[43mreturn_distance\u001b[49m\u001b[43m)\u001b[49m\n\u001b[0;32m    521\u001b[0m \u001b[38;5;28;01mif\u001b[39;00m return_distance:\n\u001b[0;32m    522\u001b[0m     join_df \u001b[38;5;241m=\u001b[39m join_df\u001b[38;5;241m.\u001b[39mrename(columns\u001b[38;5;241m=\u001b[39m{\u001b[38;5;124m\"\u001b[39m\u001b[38;5;124mdistances\u001b[39m\u001b[38;5;124m\"\u001b[39m: distance_col})\n",
      "File \u001b[1;32mD:\\Programs\\anaconda3\\lib\\site-packages\\geopandas\\tools\\sjoin.py:363\u001b[0m, in \u001b[0;36m_nearest_query\u001b[1;34m(left_df, right_df, max_distance, how, return_distance)\u001b[0m\n\u001b[0;32m    355\u001b[0m \u001b[38;5;28;01mdef\u001b[39;00m \u001b[38;5;21m_nearest_query\u001b[39m(\n\u001b[0;32m    356\u001b[0m     left_df: GeoDataFrame,\n\u001b[0;32m    357\u001b[0m     right_df: GeoDataFrame,\n\u001b[1;32m   (...)\u001b[0m\n\u001b[0;32m    360\u001b[0m     return_distance: \u001b[38;5;28mbool\u001b[39m,\n\u001b[0;32m    361\u001b[0m ):\n\u001b[0;32m    362\u001b[0m     \u001b[38;5;28;01mif\u001b[39;00m \u001b[38;5;129;01mnot\u001b[39;00m (compat\u001b[38;5;241m.\u001b[39mPYGEOS_GE_010 \u001b[38;5;129;01mand\u001b[39;00m compat\u001b[38;5;241m.\u001b[39mUSE_PYGEOS):\n\u001b[1;32m--> 363\u001b[0m         \u001b[38;5;28;01mraise\u001b[39;00m \u001b[38;5;167;01mNotImplementedError\u001b[39;00m(\n\u001b[0;32m    364\u001b[0m             \u001b[38;5;124m\"\u001b[39m\u001b[38;5;124mCurrently, only PyGEOS >= 0.10.0 supports `nearest_all`. \u001b[39m\u001b[38;5;124m\"\u001b[39m\n\u001b[0;32m    365\u001b[0m             \u001b[38;5;241m+\u001b[39m compat\u001b[38;5;241m.\u001b[39mINSTALL_PYGEOS_ERROR\n\u001b[0;32m    366\u001b[0m         )\n\u001b[0;32m    367\u001b[0m     \u001b[38;5;66;03m# use the opposite of the join direction for the index\u001b[39;00m\n\u001b[0;32m    368\u001b[0m     use_left_as_sindex \u001b[38;5;241m=\u001b[39m how \u001b[38;5;241m==\u001b[39m \u001b[38;5;124m\"\u001b[39m\u001b[38;5;124mright\u001b[39m\u001b[38;5;124m\"\u001b[39m\n",
      "\u001b[1;31mNotImplementedError\u001b[0m: Currently, only PyGEOS >= 0.10.0 supports `nearest_all`. To use PyGEOS within GeoPandas, you need to install PyGEOS: 'conda install pygeos' or 'pip install pygeos'"
     ]
    }
   ],
   "source": [
    "def join_nearest_type(type_):\n",
    "    return gpd.sjoin_nearest(neighborhoods, facilities.loc[facilities['type'] == type_], distance_col='distance')\n",
    "\n",
    "def join_nearest_types(types):\n",
    "    dfs = [join_nearest_type(t) for t in types]\n",
    "    return pd.concat(dfs, axis=0, ignore_index=True)\n",
    "\n",
    "joined = join_nearest_types(facility_types)\n",
    "joined['distance'] = round(joined['distance'] * 110.486, 2)\n",
    "#joined"
   ]
  },
  {
   "cell_type": "code",
   "execution_count": 15,
   "id": "116d29e0-f910-4e50-9810-85b7d8791cc9",
   "metadata": {},
   "outputs": [],
   "source": [
    "# Categories\n",
    "category = {\n",
    "    \"playground\": [\"nl_kindergarten\", \"nl_childcare\"],\n",
    "    \"sport\": [\n",
    "        \"nl_sports_centre\",\n",
    "        \"nl_sports_hall\",\n",
    "        \"nl_fitness_station\",\n",
    "        \"nl_fitness_centre\",\n",
    "        \"nl_stadium\",\n",
    "        \"nl_swimming_pool\",\n",
    "        \"nl_golf_course\",\n",
    "        \"nl_horse_riding\",\n",
    "        \"nl_university\",\n",
    "        \"nl_track\",\n",
    "        \"nl_college\",\n",
    "        \"nl_pitch\"\n",
    "    ],\n",
    "    \"park\": [\"nl_park\"]\n",
    "}"
   ]
  },
  {
   "cell_type": "code",
   "execution_count": null,
   "id": "07a61858-b73e-488d-90da-67cc30d5858f",
   "metadata": {},
   "outputs": [],
   "source": [
    "def categorize(type_):\n",
    "    for c in category.keys():\n",
    "        for t in category[c]:\n",
    "            if t == type_:\n",
    "                return c\n",
    "\n",
    "categorize(\"nl_pitch\")"
   ]
  },
  {
   "cell_type": "code",
   "execution_count": null,
   "id": "a6179be2-2920-46aa-b348-b2f497b86379",
   "metadata": {},
   "outputs": [],
   "source": [
    "joined['category'] = joined.apply(lambda r: categorize(r['type']), axis=1)\n",
    "#joined\n",
    "#joined.to_csv(\"neighborhood_facilities_joined_all.csv\")"
   ]
  },
  {
   "cell_type": "code",
   "execution_count": null,
   "id": "7700b7dd-dbf1-4d3c-b514-d4012a9b04e3",
   "metadata": {},
   "outputs": [],
   "source": [
    "# Minimum Distance\n",
    "cs = list(joined.drop(columns='geometry').columns)\n",
    "\n",
    "# The geometry column doesn't play well with aggregations\n",
    "min_cat = joined.groupby([\n",
    "    'neighbourhood', \n",
    "    'municipality', \n",
    "    'play_demand', \n",
    "    'a_00_14',\n",
    "    'category'\n",
    "], as_index=False)['distance'].min()\n",
    "#min_cat\n",
    "\n",
    "joined.to_csv(\"neighbourhood_distances.csv\")"
   ]
  }
 ],
 "metadata": {
  "kernelspec": {
   "display_name": "Python 3 (ipykernel)",
   "language": "python",
   "name": "python3"
  },
  "language_info": {
   "codemirror_mode": {
    "name": "ipython",
    "version": 3
   },
   "file_extension": ".py",
   "mimetype": "text/x-python",
   "name": "python",
   "nbconvert_exporter": "python",
   "pygments_lexer": "ipython3",
   "version": "3.8.8"
  }
 },
 "nbformat": 4,
 "nbformat_minor": 5
}
